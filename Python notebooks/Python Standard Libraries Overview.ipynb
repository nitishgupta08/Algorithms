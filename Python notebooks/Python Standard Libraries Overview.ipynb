{
 "cells": [
  {
   "cell_type": "markdown",
   "id": "6f9edb15",
   "metadata": {},
   "source": [
    "# Introduction to Python Standard Libraries"
   ]
  },
  {
   "cell_type": "markdown",
   "id": "cbf39f2f",
   "metadata": {},
   "source": [
    "## datetime – Working with Dates and Times"
   ]
  },
  {
   "cell_type": "code",
   "execution_count": 1,
   "id": "1a5e7597",
   "metadata": {},
   "outputs": [
    {
     "name": "stdout",
     "output_type": "stream",
     "text": [
      "Current datetime: 2024-11-13 16:21:02.129085\n",
      "Days since birthday: 10805\n",
      "Parsed date: 2023-07-20 00:00:00\n",
      "Current time in UTC: 2024-11-13 10:51:02.129710+00:00\n"
     ]
    }
   ],
   "source": [
    "from datetime import datetime, timedelta, timezone\n",
    "\n",
    "# Current date and time\n",
    "now = datetime.now()\n",
    "print(\"Current datetime:\", now)\n",
    "\n",
    "# Date difference\n",
    "birthday = datetime(1995, 4, 15)\n",
    "age_days = (now - birthday).days\n",
    "print(\"Days since birthday:\", age_days)\n",
    "\n",
    "# Parsing dates from strings\n",
    "date_str = \"2023-07-20\"\n",
    "parsed_date = datetime.strptime(date_str, \"%Y-%m-%d\")\n",
    "print(\"Parsed date:\", parsed_date)\n",
    "\n",
    "# Working with time zones\n",
    "utc_now = datetime.now(timezone.utc)\n",
    "print(\"Current time in UTC:\", utc_now)\n"
   ]
  },
  {
   "cell_type": "markdown",
   "id": "690e6db1",
   "metadata": {},
   "source": [
    "## math – Mathematical Functions"
   ]
  },
  {
   "cell_type": "code",
   "execution_count": 2,
   "id": "4ea93e9b",
   "metadata": {},
   "outputs": [
    {
     "name": "stdout",
     "output_type": "stream",
     "text": [
      "Exponential of 1: 2.718281828459045\n",
      "Logarithm base 2 of 8: 3.0\n",
      "Sine of 90 degrees: 1.0\n",
      "Euler's number (e): 2.718281828459045\n",
      "Golden ratio (phi): 1.618033988749895\n"
     ]
    }
   ],
   "source": [
    "import math\n",
    "\n",
    "# Exponential and logarithmic functions\n",
    "print(\"Exponential of 1:\", math.exp(1))\n",
    "print(\"Logarithm base 2 of 8:\", math.log2(8))\n",
    "\n",
    "# Trigonometric functions\n",
    "print(\"Sine of 90 degrees:\", math.sin(math.radians(90)))\n",
    "\n",
    "# Constants\n",
    "print(\"Euler's number (e):\", math.e)\n",
    "print(\"Golden ratio (phi):\", (1 + math.sqrt(5)) / 2)\n"
   ]
  },
  {
   "cell_type": "markdown",
   "id": "d95677d8",
   "metadata": {},
   "source": [
    "## statistics – Statistical Functions"
   ]
  },
  {
   "cell_type": "code",
   "execution_count": 3,
   "id": "aa020b87",
   "metadata": {},
   "outputs": [
    {
     "name": "stdout",
     "output_type": "stream",
     "text": [
      "Mode: 20\n",
      "Standard deviation: 13.451854182690985\n",
      "Harmonic mean: 22.45989304812834\n"
     ]
    }
   ],
   "source": [
    "import statistics\n",
    "\n",
    "data = [10, 20, 20, 30, 30, 40, 50]\n",
    "print(\"Mode:\", statistics.mode(data))\n",
    "print(\"Standard deviation:\", statistics.stdev(data))\n",
    "print(\"Harmonic mean:\", statistics.harmonic_mean(data))\n"
   ]
  },
  {
   "cell_type": "markdown",
   "id": "a66ca3af",
   "metadata": {},
   "source": [
    "## os – Interacting with the Operating System"
   ]
  },
  {
   "cell_type": "code",
   "execution_count": 4,
   "id": "f3e3d62b",
   "metadata": {},
   "outputs": [
    {
     "name": "stdout",
     "output_type": "stream",
     "text": [
      "Home directory: /Users/nitishgupta\n",
      "Created 'new_folder'\n",
      "File renamed.\n"
     ]
    }
   ],
   "source": [
    "import os\n",
    "\n",
    "# Environment variables\n",
    "print(\"Home directory:\", os.environ.get(\"HOME\"))\n",
    "\n",
    "# Creating a directory\n",
    "if not os.path.exists(\"new_folder\"):\n",
    "    os.mkdir(\"new_folder\")\n",
    "    print(\"Created 'new_folder'\")\n",
    "\n",
    "# Renaming a file\n",
    "with open(\"new_folder/temp_file.txt\", \"w\") as f:\n",
    "    f.write(\"Temporary file.\")\n",
    "os.rename(\"new_folder/temp_file.txt\", \"new_folder/renamed_file.txt\")\n",
    "print(\"File renamed.\")\n"
   ]
  },
  {
   "cell_type": "markdown",
   "id": "68499c5e",
   "metadata": {},
   "source": [
    "## sys – System-Specific Parameters and Functions"
   ]
  },
  {
   "cell_type": "code",
   "execution_count": 5,
   "id": "4f043975",
   "metadata": {},
   "outputs": [
    {
     "name": "stdout",
     "output_type": "stream",
     "text": [
      "Updated sys.path: ['/opt/homebrew/Cellar/python@3.11/3.11.6_1/Frameworks/Python.framework/Versions/3.11/lib/python311.zip', '/opt/homebrew/Cellar/python@3.11/3.11.6_1/Frameworks/Python.framework/Versions/3.11/lib/python3.11', '/opt/homebrew/Cellar/python@3.11/3.11.6_1/Frameworks/Python.framework/Versions/3.11/lib/python3.11/lib-dynload', '', '/Users/nitishgupta/Developer/python_tlc/venv/lib/python3.11/site-packages', '/example/path']\n",
      "This program will exit now.\n"
     ]
    }
   ],
   "source": [
    "import sys\n",
    "\n",
    "# Adding a path to sys.path\n",
    "sys.path.append(\"/example/path\")\n",
    "print(\"Updated sys.path:\", sys.path)\n",
    "\n",
    "# Exiting a program\n",
    "print(\"This program will exit now.\")\n",
    "# Uncomment the following line to test the exit function\n",
    "# sys.exit()\n"
   ]
  },
  {
   "cell_type": "markdown",
   "id": "48924635",
   "metadata": {},
   "source": [
    "## json – Working with JSON Data"
   ]
  },
  {
   "cell_type": "code",
   "execution_count": 6,
   "id": "39ff1532",
   "metadata": {},
   "outputs": [
    {
     "name": "stdout",
     "output_type": "stream",
     "text": [
      "Pretty JSON format:\n",
      " {\n",
      "    \"name\": \"Alice\",\n",
      "    \"age\": 25,\n",
      "    \"details\": {\n",
      "        \"city\": \"New York\",\n",
      "        \"hobbies\": [\n",
      "            \"reading\",\n",
      "            \"biking\"\n",
      "        ]\n",
      "    }\n",
      "}\n",
      "Loaded data from file: {'name': 'Alice', 'age': 25, 'details': {'city': 'New York', 'hobbies': ['reading', 'biking']}}\n"
     ]
    }
   ],
   "source": [
    "import json\n",
    "\n",
    "# Nested dictionary\n",
    "data = {\"name\": \"Alice\", \"age\": 25, \"details\": {\"city\": \"New York\", \"hobbies\": [\"reading\", \"biking\"]}}\n",
    "json_data = json.dumps(data, indent=4)\n",
    "print(\"Pretty JSON format:\\n\", json_data)\n",
    "\n",
    "# Saving JSON to a file\n",
    "with open(\"data.json\", \"w\") as f:\n",
    "    json.dump(data, f)\n",
    "\n",
    "# Loading JSON from a file\n",
    "with open(\"data.json\", \"r\") as f:\n",
    "    loaded_data = json.load(f)\n",
    "print(\"Loaded data from file:\", loaded_data)\n"
   ]
  },
  {
   "cell_type": "markdown",
   "id": "9448774c",
   "metadata": {},
   "source": [
    "## random – Generating Random Numbers"
   ]
  },
  {
   "cell_type": "code",
   "execution_count": 7,
   "id": "de2afdbc",
   "metadata": {},
   "outputs": [
    {
     "name": "stdout",
     "output_type": "stream",
     "text": [
      "Random float: 0.8161069832191328\n",
      "Shuffled list: [3, 5, 4, 1, 2]\n"
     ]
    }
   ],
   "source": [
    "import random\n",
    "\n",
    "# Random float between 0 and 1\n",
    "print(\"Random float:\", random.random())\n",
    "\n",
    "# Shuffling a list\n",
    "numbers = [1, 2, 3, 4, 5]\n",
    "random.shuffle(numbers)\n",
    "print(\"Shuffled list:\", numbers)\n"
   ]
  },
  {
   "cell_type": "markdown",
   "id": "86e4b403",
   "metadata": {},
   "source": [
    "## collections – Specialized Data Structures"
   ]
  },
  {
   "cell_type": "code",
   "execution_count": 8,
   "id": "e928eda0",
   "metadata": {},
   "outputs": [
    {
     "name": "stdout",
     "output_type": "stream",
     "text": [
      "Count with defaultdict: {'apple': 2, 'banana': 2, 'cherry': 1}\n",
      "Deque after modifications: deque([0, 1, 2])\n"
     ]
    }
   ],
   "source": [
    "from collections import defaultdict, deque\n",
    "\n",
    "# defaultdict with a default value\n",
    "count = defaultdict(int)\n",
    "items = [\"apple\", \"banana\", \"apple\", \"banana\", \"cherry\"]\n",
    "for item in items:\n",
    "    count[item] += 1\n",
    "print(\"Count with defaultdict:\", dict(count))\n",
    "\n",
    "# deque for efficient insertions/removals\n",
    "d = deque([1, 2, 3])\n",
    "d.appendleft(0)\n",
    "d.pop()\n",
    "print(\"Deque after modifications:\", d)\n"
   ]
  },
  {
   "cell_type": "markdown",
   "id": "8c243bea",
   "metadata": {},
   "source": [
    "## itertools – Iterator Functions"
   ]
  },
  {
   "cell_type": "code",
   "execution_count": 12,
   "id": "c464d62b",
   "metadata": {},
   "outputs": [
    {
     "name": "stdout",
     "output_type": "stream",
     "text": [
      "Combinations: [(1, 2), (1, 3), (2, 3)]\n",
      "Cumulative sum: [1, 3, 6, 10]\n"
     ]
    }
   ],
   "source": [
    "from itertools import combinations, accumulate\n",
    "\n",
    "# Combinations of a list\n",
    "items = [1, 2, 3]\n",
    "print(\"Combinations:\", list(combinations(items, 2)))\n",
    "\n",
    "# Cumulative sum with accumulate\n",
    "numbers = [1, 2, 3, 4]\n",
    "print(\"Cumulative sum:\", list(accumulate(numbers)))\n"
   ]
  }
 ],
 "metadata": {
  "kernelspec": {
   "display_name": "Python 3 (ipykernel)",
   "language": "python",
   "name": "python3"
  },
  "language_info": {
   "codemirror_mode": {
    "name": "ipython",
    "version": 3
   },
   "file_extension": ".py",
   "mimetype": "text/x-python",
   "name": "python",
   "nbconvert_exporter": "python",
   "pygments_lexer": "ipython3",
   "version": "3.11.6"
  }
 },
 "nbformat": 4,
 "nbformat_minor": 5
}
