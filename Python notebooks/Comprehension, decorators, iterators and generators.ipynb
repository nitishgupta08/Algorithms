{
 "cells": [
  {
   "cell_type": "markdown",
   "id": "c830bb26-1754-4a8a-80ea-79677921d985",
   "metadata": {},
   "source": [
    "# Comprehensions"
   ]
  },
  {
   "cell_type": "markdown",
   "id": "4b0982bb-6834-4aba-af7b-57ac03b84e08",
   "metadata": {},
   "source": [
    "## List Comprehensions"
   ]
  },
  {
   "cell_type": "code",
   "execution_count": 2,
   "id": "3f7fda6a-c552-4243-9ab4-713f5e518d87",
   "metadata": {},
   "outputs": [
    {
     "name": "stdout",
     "output_type": "stream",
     "text": [
      "Squares: [1, 4, 9, 16, 25, 36, 49, 64, 81, 100]\n",
      "Even squares: [4, 16, 36, 64, 100]\n",
      "Flattened matrix: [1, 2, 3, 4, 5, 6, 7, 8, 9]\n"
     ]
    }
   ],
   "source": [
    "# Simple list comprehension\n",
    "numbers = [1, 2, 3, 4, 5, 6, 7, 8, 9, 10]\n",
    "squares = [x**2 for x in numbers]\n",
    "print(\"Squares:\", squares)\n",
    "\n",
    "# List comprehension with condition\n",
    "even_squares = [x**2 for x in numbers if x % 2 == 0]\n",
    "print(\"Even squares:\", even_squares)\n",
    "\n",
    "# Nested list comprehension\n",
    "matrix = [[1, 2, 3], [4, 5, 6], [7, 8, 9]]\n",
    "flattened = [num for row in matrix for num in row]\n",
    "print(\"Flattened matrix:\", flattened)\n"
   ]
  },
  {
   "cell_type": "markdown",
   "id": "5192b4a0-52a3-44ba-a6e5-066ba40469a3",
   "metadata": {},
   "source": [
    "## Dictionary Comprehensions"
   ]
  },
  {
   "cell_type": "code",
   "execution_count": 3,
   "id": "6a981afe-b118-497a-af44-fd08ba597e68",
   "metadata": {},
   "outputs": [
    {
     "name": "stdout",
     "output_type": "stream",
     "text": [
      "\n",
      "Name to age mapping: {'Alice': 25, 'Bob': 30, 'Charlie': 35}\n",
      "Squares dictionary: {0: 0, 2: 4, 4: 16}\n",
      "Swapped dictionary: {1: 'a', 2: 'b', 3: 'c'}\n"
     ]
    }
   ],
   "source": [
    "# Create dictionary from two lists\n",
    "names = ['Alice', 'Bob', 'Charlie']\n",
    "ages = [25, 30, 35]\n",
    "name_to_age = {name: age for name, age in zip(names, ages)}\n",
    "print(\"\\nName to age mapping:\", name_to_age)\n",
    "\n",
    "# Dictionary comprehension with condition\n",
    "squares_dict = {x: x**2 for x in range(5) if x % 2 == 0}\n",
    "print(\"Squares dictionary:\", squares_dict)\n",
    "\n",
    "# Swapping keys and values\n",
    "original = {'a': 1, 'b': 2, 'c': 3}\n",
    "swapped = {v: k for k, v in original.items()}\n",
    "print(\"Swapped dictionary:\", swapped)"
   ]
  },
  {
   "cell_type": "markdown",
   "id": "e7c78816-6538-44e2-bc11-965414017a28",
   "metadata": {},
   "source": [
    "## Set Comprehensions"
   ]
  },
  {
   "cell_type": "code",
   "execution_count": 4,
   "id": "4211b21a-cb9d-4c99-9584-d49e923fb0aa",
   "metadata": {},
   "outputs": [
    {
     "name": "stdout",
     "output_type": "stream",
     "text": [
      "\n",
      "Set of squares: {0, 1, 4, 9, 16}\n",
      "Set of even squares: {0, 64, 4, 36, 16}\n",
      "Unique characters: {'L', 'E', 'H', 'O'}\n"
     ]
    }
   ],
   "source": [
    "# Create set of squares\n",
    "square_set = {x**2 for x in range(5)}\n",
    "print(\"\\nSet of squares:\", square_set)\n",
    "\n",
    "# Set comprehension with condition\n",
    "even_squares_set = {x**2 for x in range(10) if x % 2 == 0}\n",
    "print(\"Set of even squares:\", even_squares_set)\n",
    "\n",
    "# Converting strings to set of unique characters\n",
    "word = \"hello\"\n",
    "unique_chars = {char.upper() for char in word}\n",
    "print(\"Unique characters:\", unique_chars)"
   ]
  },
  {
   "cell_type": "markdown",
   "id": "0c3f0fdf-a86e-460c-bb11-8598fa9e359f",
   "metadata": {},
   "source": [
    "# Decorators  \n",
    "Wrap a function with an additional functionality"
   ]
  },
  {
   "cell_type": "code",
   "execution_count": 16,
   "id": "78190d2b-b85e-4b08-947c-c1f3cfda3fd9",
   "metadata": {},
   "outputs": [],
   "source": [
    "def timing_decorator(func):\n",
    "    from time import time\n",
    "    \n",
    "    def wrapper(*args, **kwargs):\n",
    "        start = time()\n",
    "        result = func(*args, **kwargs)\n",
    "        end = time()\n",
    "        print(f\"{func.__name__} took {end - start:.2f} seconds to execute\")\n",
    "        return result\n",
    "        \n",
    "    return wrapper"
   ]
  },
  {
   "cell_type": "code",
   "execution_count": 20,
   "id": "cf883e8b-e06c-4250-9bbd-1e44c46dc9ce",
   "metadata": {},
   "outputs": [
    {
     "name": "stdout",
     "output_type": "stream",
     "text": [
      "\n",
      "Testing decorator:\n",
      "func took 0.06 seconds to execute\n"
     ]
    }
   ],
   "source": [
    "@timing_decorator\n",
    "def func(x):\n",
    "    res = 1\n",
    "    for i in range(1, x):\n",
    "        res *= i\n",
    "\n",
    "print(\"\\nTesting decorator:\")\n",
    "func(10000)\n",
    "\n",
    "# timing_decorator(func)(10000) # Same syntax"
   ]
  },
  {
   "cell_type": "markdown",
   "id": "e1229979-06fd-464a-b0f6-6d20cff1418c",
   "metadata": {},
   "source": [
    "# Iterators  \n",
    "An iterator is an object that implements the `__iter__()` and `__next__()` methods. An example of creating a custom iterator that iterates over a sequence of numbers is shown below."
   ]
  },
  {
   "cell_type": "code",
   "execution_count": 46,
   "id": "00fc0850-63ad-41c5-95df-26e3bcea74c8",
   "metadata": {},
   "outputs": [
    {
     "name": "stdout",
     "output_type": "stream",
     "text": [
      "1\n",
      "2\n",
      "3\n",
      "4\n"
     ]
    }
   ],
   "source": [
    "class MyRange:\n",
    "    def __init__(self, start, end):\n",
    "        self.current = start\n",
    "        self.end = end\n",
    "\n",
    "    def __iter__(self):\n",
    "        return self\n",
    "\n",
    "    def __next__(self):\n",
    "        if self.current < self.end:\n",
    "            num = self.current\n",
    "            self.current += 1\n",
    "            return num\n",
    "        raise StopIteration\n",
    "\n",
    "my_range = MyRange(1, 5)\n",
    "for number in my_range:\n",
    "    print(number)"
   ]
  },
  {
   "cell_type": "markdown",
   "id": "f5f7d9f9-5065-4928-a703-e264d6f37089",
   "metadata": {},
   "source": [
    "# Generators"
   ]
  },
  {
   "cell_type": "code",
   "execution_count": 44,
   "id": "bdd4555f-5625-42e6-97a6-1c8657284d44",
   "metadata": {},
   "outputs": [
    {
     "name": "stdout",
     "output_type": "stream",
     "text": [
      "\n",
      "Testing generator:\n",
      "Size of generator seq 208\n",
      "Cube: 0\n",
      "Cube: 1\n",
      "Cube: 8\n",
      "Size of comprehension seq 8448728\n"
     ]
    }
   ],
   "source": [
    "import sys\n",
    "\n",
    "def get_cubes(n):\n",
    "    for x in range(n):\n",
    "        yield x**3\n",
    "        \n",
    "print(\"\\nTesting generator:\")\n",
    "cube = get_cubes(1000000)\n",
    "print(\"Size of generator seq\", sys.getsizeof(cube))  \n",
    "print(\"Cube:\", next(cube))\n",
    "print(\"Cube:\", next(cube))\n",
    "print(\"Cube:\", next(cube))\n",
    "\n",
    "c = [x ** 3 for x in range(1000000)]\n",
    "print(\"Size of comprehension seq\", sys.getsizeof(c)) "
   ]
  },
  {
   "cell_type": "markdown",
   "id": "54e98f53-bf45-43be-a9e5-0b188742248e",
   "metadata": {},
   "source": [
    "# `match-case` (Structural Pattern Matching)  \n",
    "\n",
    "Not your average switch case :)"
   ]
  },
  {
   "cell_type": "code",
   "execution_count": 53,
   "id": "4297dce5-2c06-4f4c-816c-dc7ba016ed0e",
   "metadata": {},
   "outputs": [
    {
     "name": "stdout",
     "output_type": "stream",
     "text": [
      "hello world\n"
     ]
    }
   ],
   "source": [
    "value = \"hello\"\n",
    "\n",
    "match value:\n",
    "    case \"hello\":\n",
    "        print(\"hello world\")\n",
    "    case \"exit\":\n",
    "        exit()\n",
    "    case _:\n",
    "        print(\"unknown\")\n",
    "\n",
    "# This can be done with simple if-else"
   ]
  },
  {
   "cell_type": "code",
   "execution_count": 59,
   "id": "2dcf6819-21d5-442f-948d-97635336fb7d",
   "metadata": {},
   "outputs": [
    {
     "name": "stdout",
     "output_type": "stream",
     "text": [
      "Cannot divide by zero\n"
     ]
    }
   ],
   "source": [
    "division_numbers = (5, 2, 0, 5, 6)\n",
    "\n",
    "match division_numbers:\n",
    "    case (x, 0):\n",
    "        print(f\"Cannot divide by zero\")\n",
    "        \n",
    "    case (x, y):\n",
    "        print(f\"x/y is {x/y}\")\n",
    "\n",
    "    case (x, y, *others) if 0 not in others and y != 0:\n",
    "        division = x / y\n",
    "        for n in others:\n",
    "            division /= n\n",
    "        print(division)\n",
    "\n",
    "    case (x, y, *others):\n",
    "        print(f\"Cannot divide by zero\")\n",
    "\n",
    "    case _:\n",
    "        print(\"Invalid input\")"
   ]
  }
 ],
 "metadata": {
  "kernelspec": {
   "display_name": "Python 3 (ipykernel)",
   "language": "python",
   "name": "python3"
  },
  "language_info": {
   "codemirror_mode": {
    "name": "ipython",
    "version": 3
   },
   "file_extension": ".py",
   "mimetype": "text/x-python",
   "name": "python",
   "nbconvert_exporter": "python",
   "pygments_lexer": "ipython3",
   "version": "3.11.6"
  }
 },
 "nbformat": 4,
 "nbformat_minor": 5
}
