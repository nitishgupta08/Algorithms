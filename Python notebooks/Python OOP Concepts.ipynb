{
 "cells": [
  {
   "cell_type": "markdown",
   "id": "4acb0cdf",
   "metadata": {},
   "source": [
    "# Object-Oriented Programming (OOP) in Python"
   ]
  },
  {
   "cell_type": "markdown",
   "id": "7f8dd056",
   "metadata": {},
   "source": [
    "## Classes and Objects"
   ]
  },
  {
   "cell_type": "markdown",
   "id": "d39f4ae1",
   "metadata": {},
   "source": [
    "Classes are blueprints for creating objects. An object is an instance of a class, containing data and behaviors defined by the class. Here's a basic example of a class and object in Python."
   ]
  },
  {
   "cell_type": "code",
   "execution_count": 7,
   "id": "977b6967",
   "metadata": {},
   "outputs": [
    {
     "name": "stdout",
     "output_type": "stream",
     "text": [
      "Dog's name: Buddy\n",
      "Dog's age: 3\n",
      "Buddy says woof!\n"
     ]
    }
   ],
   "source": [
    "class Dog:  # class Dog(object)\n",
    "    def __init__(self, name, age):\n",
    "        self.name = name\n",
    "        self.age = age\n",
    "\n",
    "    def bark(self):\n",
    "        return f\"{self.name} says woof!\"\n",
    "\n",
    "# Creating an instance (object) of the Dog class\n",
    "my_dog = Dog(\"Buddy\", 3)\n",
    "print(\"Dog's name:\", my_dog.name)\n",
    "print(\"Dog's age:\", my_dog.age)\n",
    "print(my_dog.bark())\n"
   ]
  },
  {
   "cell_type": "markdown",
   "id": "b1f8c853",
   "metadata": {},
   "source": [
    "## Encapsulation"
   ]
  },
  {
   "cell_type": "markdown",
   "id": "662e6ac7",
   "metadata": {},
   "source": [
    "Encapsulation restricts access to certain components of an object, protecting data from unintended modifications. In Python, attributes can be made private by prefixing them with an underscore."
   ]
  },
  {
   "cell_type": "code",
   "execution_count": 4,
   "id": "09a29a47",
   "metadata": {},
   "outputs": [
    {
     "name": "stdout",
     "output_type": "stream",
     "text": [
      "Name (protected): Alice\n",
      "Age (private): 30\n"
     ]
    }
   ],
   "source": [
    "class Person:\n",
    "    def __init__(self, name, age):\n",
    "        self._name = name      # Protected attribute, kind of\n",
    "        self.__age = age       # Private attribute\n",
    "\n",
    "    def get_age(self):\n",
    "        return self.__age\n",
    "\n",
    "# Creating a Person instance\n",
    "person = Person(\"Alice\", 30)\n",
    "print(\"Name (protected):\", person._name)  # Accessible\n",
    "# print(\"Name (protected):\", person.__age)  # Will throw error (Name mangling)\n",
    "print(\"Age (private):\", person.get_age())  # Accessing private attribute through method\n",
    "\n"
   ]
  },
  {
   "cell_type": "markdown",
   "id": "71953bee",
   "metadata": {},
   "source": [
    "## Inheritance"
   ]
  },
  {
   "cell_type": "markdown",
   "id": "51c4bb9a",
   "metadata": {},
   "source": [
    "Inheritance allows a class to inherit properties and methods from another class, promoting code reuse."
   ]
  },
  {
   "cell_type": "code",
   "execution_count": 6,
   "id": "13bb1c79",
   "metadata": {},
   "outputs": [
    {
     "name": "stdout",
     "output_type": "stream",
     "text": [
      "Some generic sound\n",
      "Whiskers says meow!\n"
     ]
    }
   ],
   "source": [
    "class Animal:\n",
    "    def __init__(self, species):\n",
    "        self.species = species\n",
    "\n",
    "    def make_sound(self):\n",
    "        return \"Some generic sound\"\n",
    "\n",
    "class Cat(Animal):\n",
    "    def __init__(self, name):\n",
    "        super().__init__(\"Cat\")\n",
    "        self.name = name\n",
    "\n",
    "    def make_sound(self):\n",
    "        return f\"{self.name} says meow!\"\n",
    "\n",
    "# Creating instances\n",
    "generic_animal = Animal(\"Unknown\")\n",
    "cat = Cat(\"Whiskers\")\n",
    "print(generic_animal.make_sound())\n",
    "print(cat.make_sound())\n"
   ]
  },
  {
   "cell_type": "markdown",
   "id": "9251070f",
   "metadata": {},
   "source": [
    "## Polymorphism"
   ]
  },
  {
   "cell_type": "markdown",
   "id": "b1e9bff3",
   "metadata": {},
   "source": [
    "Polymorphism allows methods to do different things based on the object calling them. For example, different classes may have a `make_sound` method but provide distinct implementations."
   ]
  },
  {
   "cell_type": "code",
   "execution_count": null,
   "id": "72d91b0e",
   "metadata": {},
   "outputs": [],
   "source": [
    "class Bird(Animal):\n",
    "    def __init__(self, name):\n",
    "        super().__init__(\"Bird\")\n",
    "        self.name = name\n",
    "\n",
    "    def make_sound(self):\n",
    "        return f\"{self.name} says chirp!\"\n",
    "\n",
    "# Using polymorphism\n",
    "def animal_sound(animal):\n",
    "    print(animal.make_sound())\n",
    "\n",
    "animal_sound(cat)\n",
    "animal_sound(Bird(\"Tweety\"))\n"
   ]
  },
  {
   "cell_type": "markdown",
   "id": "d2af1972",
   "metadata": {},
   "source": [
    "## Abstraction"
   ]
  },
  {
   "cell_type": "markdown",
   "id": "b00c5274",
   "metadata": {},
   "source": [
    "Abstraction hides implementation details from the user, exposing only essential features. Abstract classes can be created using the `abc` module."
   ]
  },
  {
   "cell_type": "code",
   "execution_count": null,
   "id": "0f206958",
   "metadata": {},
   "outputs": [],
   "source": [
    "from abc import ABC, abstractmethod\n",
    "\n",
    "class Shape(ABC):\n",
    "    @abstractmethod\n",
    "    def area(self):\n",
    "        pass\n",
    "\n",
    "class Rectangle(Shape):\n",
    "    def __init__(self, width, height):\n",
    "        self.width = width\n",
    "        self.height = height\n",
    "\n",
    "    def area(self):\n",
    "        return self.width * self.height\n",
    "\n",
    "rect = Rectangle(4, 5)\n",
    "print(\"Rectangle area:\", rect.area())\n"
   ]
  },
  {
   "cell_type": "markdown",
   "id": "21778abf",
   "metadata": {},
   "source": [
    "## Magic Methods (Dunder Methods)"
   ]
  },
  {
   "cell_type": "markdown",
   "id": "a44d2136",
   "metadata": {},
   "source": [
    "Magic methods (or dunder methods) allow us to define behavior for built-in functions and operations. Examples include `__str__`, `__repr__`, `__add__`, and more."
   ]
  },
  {
   "cell_type": "code",
   "execution_count": null,
   "id": "9be99ced",
   "metadata": {},
   "outputs": [],
   "source": [
    "class Vector:\n",
    "    def __init__(self, x, y):\n",
    "        self.x = x\n",
    "        self.y = y\n",
    "\n",
    "    def __add__(self, other):\n",
    "        return Vector(self.x + other.x, self.y + other.y)\n",
    "\n",
    "    def __str__(self):\n",
    "        return f\"Vector({self.x}, {self.y})\"\n",
    "\n",
    "v1 = Vector(2, 4)\n",
    "v2 = Vector(1, 3)\n",
    "print(\"Sum of vectors:\", v1 + v2)\n",
    "print(\"String representation of vector:\", v1)\n"
   ]
  },
  {
   "cell_type": "markdown",
   "id": "bfa96375",
   "metadata": {},
   "source": [
    "## Class vs Instance Attributes  \n",
    "Class attributes are shared by all instances of the class, while instance attributes are specific to each instance. The example below demonstrates the difference."
   ]
  },
  {
   "cell_type": "code",
   "execution_count": null,
   "id": "874857d8",
   "metadata": {},
   "outputs": [],
   "source": [
    "class MyClass:\n",
    "    class_attr = \"I am a class attribute\"\n",
    "    \n",
    "    def __init__(self, instance_attr):\n",
    "        self.instance_attr = instance_attr\n",
    "\n",
    "# Class attribute is shared across instances\n",
    "obj1 = MyClass(\"Instance 1\")\n",
    "obj2 = MyClass(\"Instance 2\")\n",
    "\n",
    "print(\"obj1:\", obj1.class_attr, obj1.instance_attr)\n",
    "print(\"obj2:\", obj2.class_attr, obj2.instance_attr)\n",
    "\n",
    "# Modifying class attribute through the class itself\n",
    "MyClass.class_attr = \"Modified class attribute\"\n",
    "\n",
    "print(\"After modification:\")\n",
    "print(\"obj1:\", obj1.class_attr)\n",
    "print(\"obj2:\", obj2.class_attr)\n"
   ]
  },
  {
   "cell_type": "markdown",
   "id": "12efac10",
   "metadata": {},
   "source": [
    "## Class and Static Methods  \n",
    "Class methods have access to the class itself and can modify class-level attributes. Static methods, however, don't have access to either instance or class data."
   ]
  },
  {
   "cell_type": "code",
   "execution_count": 38,
   "id": "25bc6239",
   "metadata": {},
   "outputs": [
    {
     "name": "stdout",
     "output_type": "stream",
     "text": [
      "The Amazing Bookstore\n",
      "90.0\n",
      "\n",
      "\n",
      "Sold: Python Programming\n",
      "1\n"
     ]
    }
   ],
   "source": [
    "class Bookstore:\n",
    "    store_name = \"The Great Bookstore\"\n",
    "    books_sold = 0\n",
    "\n",
    "    def __init__(self, book_title):\n",
    "        self.book_title = book_title\n",
    "\n",
    "    @classmethod\n",
    "    def set_store_name(cls, name):\n",
    "        cls.store_name = name\n",
    "\n",
    "    @staticmethod\n",
    "    def calculate_discount(price, discount):\n",
    "        return price * (1 - discount)\n",
    "    \n",
    "    def sell_book(self):\n",
    "        Bookstore.books_sold += 1\n",
    "        return f\"Sold: {self.book_title}\"\n",
    "\n",
    "Bookstore.set_store_name(\"The Amazing Bookstore\")\n",
    "print(Bookstore.store_name)\n",
    "\n",
    "discounted_price = Bookstore.calculate_discount(100, 0.1)\n",
    "print(discounted_price)\n",
    "print(\"\\n\")\n",
    "book1 = Bookstore(\"Python Programming\")\n",
    "print(book1.sell_book())\n",
    "print(Bookstore.books_sold)\n"
   ]
  },
  {
   "cell_type": "markdown",
   "id": "4b504bd2",
   "metadata": {},
   "source": [
    "## Properties and Getters/Setters"
   ]
  },
  {
   "cell_type": "markdown",
   "id": "a07fbf59",
   "metadata": {},
   "source": [
    "The `@property` decorator allows us to define getter, setter, and deleter methods for an attribute, enabling controlled access and modification."
   ]
  },
  {
   "cell_type": "code",
   "execution_count": 8,
   "id": "4665a850",
   "metadata": {},
   "outputs": [
    {
     "name": "stdout",
     "output_type": "stream",
     "text": [
      "Employee salary: 5000\n",
      "Updated salary: 5500\n",
      "Invalid salary!\n",
      "Deleted John's salary\n"
     ]
    }
   ],
   "source": [
    "class Employee:\n",
    "    def __init__(self, name, salary):\n",
    "        self.name = name\n",
    "        self.__salary = salary\n",
    "\n",
    "    @property\n",
    "    def salary(self):\n",
    "        return self.__salary\n",
    "\n",
    "    @salary.setter\n",
    "    def salary(self, value):\n",
    "        if value >= 0:\n",
    "            self.__salary = value\n",
    "        else:\n",
    "            print(\"Invalid salary!\")\n",
    "\n",
    "    @salary.deleter\n",
    "    def salary(self):\n",
    "        print(f\"Deleted {self.name}'s salary\")\n",
    "        self.__salary = 0\n",
    "\n",
    "emp = Employee(\"John\", 5000)\n",
    "print(\"Employee salary:\", emp.salary)\n",
    "\n",
    "emp.salary = 5500\n",
    "print(\"Updated salary:\", emp.salary)\n",
    "\n",
    "emp.salary = -100  # Will print an error message\n",
    "\n",
    "del emp.salary"
   ]
  },
  {
   "cell_type": "markdown",
   "id": "09b9429b",
   "metadata": {},
   "source": [
    "## Multiple Inheritance and Method Resolution Order (MRO)"
   ]
  },
  {
   "cell_type": "markdown",
   "id": "7e85862c",
   "metadata": {},
   "source": [
    "In Python, a class can inherit from multiple parent classes, which is known as multiple inheritance. The Method Resolution Order (MRO) determines the order in which methods are resolved in a hierarchy. Python uses the C3 linearization algorithm to handle MRO, allowing classes to have consistent and predictable behavior. Calls are depth first but where a common ancestor is involved, it is called as late as possible"
   ]
  },
  {
   "cell_type": "code",
   "execution_count": null,
   "id": "b695e347",
   "metadata": {},
   "outputs": [],
   "source": [
    "class A:\n",
    "    def show(self):\n",
    "        return \"Class A\"\n",
    "\n",
    "class B(A):\n",
    "    def show(self):\n",
    "        return \"Class B\"\n",
    "\n",
    "class C(A):\n",
    "    def show(self):\n",
    "        return \"Class C\"\n",
    "\n",
    "class D(B, C):\n",
    "    pass\n",
    "\n",
    "# MRO allows the method resolution path to be seen\n",
    "d = D()\n",
    "print(\"MRO of D:\", D.mro())\n",
    "print(\"Calling 'show' method:\", d.show())\n"
   ]
  },
  {
   "cell_type": "markdown",
   "id": "ca813d58",
   "metadata": {},
   "source": [
    "## Scopes and Namespaces"
   ]
  },
  {
   "cell_type": "markdown",
   "id": "1f0ed31c",
   "metadata": {},
   "source": [
    "In Python, a variable's scope determines its visibility within the code. There are four types of scopes:\n",
    "- **Local**: Variables defined within a function.\n",
    "- **Enclosing**: Variables in the local scope of enclosing functions.\n",
    "- **Global**: Variables defined at the top level.\n",
    "- **Built-in**: Names pre-defined in Python.\n",
    "\n",
    "Below is an example demonstrating scopes."
   ]
  },
  {
   "cell_type": "code",
   "execution_count": null,
   "id": "9080ec6a",
   "metadata": {},
   "outputs": [],
   "source": [
    "x = \"global\"\n",
    "\n",
    "def outer_function():\n",
    "    x = \"enclosing\"\n",
    "    \n",
    "    def inner_function():\n",
    "        x = \"local\"\n",
    "        print(\"Inner:\", x)\n",
    "    \n",
    "    inner_function()\n",
    "    print(\"Outer:\", x)\n",
    "\n",
    "outer_function()\n",
    "print(\"Global:\", x)\n"
   ]
  },
  {
   "cell_type": "markdown",
   "id": "b03946b9-1c1f-4e2e-b124-81aa70697c5c",
   "metadata": {},
   "source": [
    "## `super`"
   ]
  },
  {
   "cell_type": "code",
   "execution_count": 10,
   "id": "89e96d9e-85d6-4aef-87df-b5272dfc157d",
   "metadata": {},
   "outputs": [],
   "source": [
    "class Base:\n",
    "    def f(self, x):\n",
    "        print(\"Base.f\", self, x)\n",
    "\n",
    "\n",
    "class Derived(Base):\n",
    "    def f(self, x):\n",
    "        print(\"Derived.f\", self, x)\n",
    "        super().f(x)\n",
    "        print(\"Derived.f finished\")\n",
    "\n",
    "\n",
    "def basic_example():\n",
    "    d = Derived()\n",
    "    d.f(42)\n",
    "\n",
    "\n",
    "class LoggingDict(dict):\n",
    "    def __setitem__(self, key, value):\n",
    "        print(f'Setting {key}: {value}')\n",
    "        super().__setitem__(key, value)\n",
    "\n",
    "    def __getitem__(self, item):\n",
    "        print(f'Getting {item}')\n",
    "        return super().__getitem__(item)\n",
    "\n",
    "    def __delitem__(self, key):\n",
    "        print(f'Deleting {key}')\n",
    "        super().__delitem__(key)\n",
    "\n",
    "\n",
    "def logging_dict_example():\n",
    "    print(\"LOGGING DICT EXAMPLE\")\n",
    "    d = LoggingDict()\n",
    "    d[0] = \"subscribe\"\n",
    "    x = d[0]\n",
    "    del d[0]\n",
    "    print()\n",
    "\n",
    "\n",
    "def main():\n",
    "    # basic_example()\n",
    "    logging_dict_example()\n"
   ]
  },
  {
   "cell_type": "code",
   "execution_count": 12,
   "id": "5813b9b1-2067-4c92-b54f-4c50b72e15f3",
   "metadata": {},
   "outputs": [],
   "source": [
    "def super_does_not_access_parent():\n",
    "    class Root:\n",
    "        def f(self):\n",
    "            print(\"Root.f\", self)\n",
    "\n",
    "    class A(Root):\n",
    "        pass\n",
    "\n",
    "    class B(A):\n",
    "        def f(self):\n",
    "            print(\"B.f\", self)\n",
    "            super().f()\n",
    "\n",
    "    b = B()\n",
    "    b.f()\n",
    "\n",
    "\n",
    "def super_can_access_sibling():\n",
    "    class Root:\n",
    "        def f(self):\n",
    "            print(\"Root.f\", self)\n",
    "            assert not hasattr(super(), 'f'), \"You forgot to inherit from Root\"\n",
    "\n",
    "    class A(Root):\n",
    "        def f(self):\n",
    "            print(\"A.f\", self)\n",
    "            super().f()\n",
    "\n",
    "    class B(Root):\n",
    "        def f(self):\n",
    "            print(\"B.f\", self)\n",
    "            super().f()\n",
    "\n",
    "    class C(A, B):\n",
    "        def f(self):\n",
    "            print(\"C.f\", self)\n",
    "            super().f()\n",
    "\n",
    "    C().f()\n",
    "\n",
    "\n",
    "def what_is_mro():\n",
    "    class Root:\n",
    "        f = \"Root\"\n",
    "\n",
    "    class A(Root):\n",
    "        fx = \"A\"\n",
    "\n",
    "    class B(Root):\n",
    "        fx = \"B\"\n",
    "\n",
    "    class C(A, B):\n",
    "        fx = \"C\"\n",
    "\n",
    "    print(C.__mro__)\n",
    "    print([cls.__name__ for cls in C.__mro__])\n",
    "\n",
    "\n",
    "def the_properties_of_mro_you_should_care_about():\n",
    "    class A:  # (A, object)\n",
    "        pass\n",
    "\n",
    "    class B:  # (B, object)\n",
    "        pass\n",
    "\n",
    "    class C(A, B):  # (C, A, B, object)\n",
    "        pass  # (A,    object)\n",
    "        #       (B, object)\n",
    "\n",
    "    class D(A, C):  # error\n",
    "        pass\n",
    "\n",
    "\n",
    "def main():\n",
    "    # mro_example()\n",
    "    # what_is_mro()\n",
    "    super_can_access_sibling()\n",
    "    # the_properties_of_mro_you_should_care_about()"
   ]
  },
  {
   "cell_type": "code",
   "execution_count": null,
   "id": "6ef5d0cf-a89a-4613-ade1-e93c81a8effa",
   "metadata": {},
   "outputs": [],
   "source": []
  }
 ],
 "metadata": {
  "kernelspec": {
   "display_name": "Python 3 (ipykernel)",
   "language": "python",
   "name": "python3"
  },
  "language_info": {
   "codemirror_mode": {
    "name": "ipython",
    "version": 3
   },
   "file_extension": ".py",
   "mimetype": "text/x-python",
   "name": "python",
   "nbconvert_exporter": "python",
   "pygments_lexer": "ipython3",
   "version": "3.11.6"
  }
 },
 "nbformat": 4,
 "nbformat_minor": 5
}
