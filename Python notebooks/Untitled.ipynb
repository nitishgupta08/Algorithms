{
 "cells": [
  {
   "cell_type": "markdown",
   "id": "1f4971ad-bb64-4b57-b280-36da6209ac0f",
   "metadata": {},
   "source": [
    "## Magic methods and dunders\n",
    "\n",
    "`__add__`  `__sub__` and many more methods can be defined\n",
    "\n",
    "`__call__` can be overloaded to see what we call the object of a class\n",
    "\n",
    "## Variables are memory references\n",
    "Certain data may use more than 1 slot at a time as long as we know the first address of the object. And that is called the heap. Storing and creating objects in heap is managed by python memory manager.\n",
    "\n",
    "var_1 = 10\n",
    "var_1 reference the object in some memory\n",
    "You can get the address of this variable using id() function. It returns a base-10 number. Convert it using hex()\n",
    "\n",
    "\n",
    "## Reference counting\n",
    "How many variables are pointing to that memory addresses. If the reference count goes to 0 Python memory manager discards that object and reclaims the memory\n",
    "\n",
    "## Garbage collection\n",
    "This is called when circular reference is present. If circular reference exists, reference counting won't be able to clean up\n",
    "\n",
    "## Dynamic typed and Static typed\n",
    "Unlike other languages, python is dynamically typed. The variable just stores the reference of the object. No type is attached to the variable. We use `type()` function to determine the type of the object it is currently referenced to.\n",
    "\n",
    "## Variable Re Assignment in Python\n",
    "my_var = 10\n",
    "my_var = 15\n",
    "\n",
    "First, my_var references to an integer object 10. In the second statement, a new integer object is created with value 15 and now my_var references to this.\n",
    "\n",
    "even, my_var = my_var + 5\n",
    "\n",
    "In fact the value inside the \"int\" objects can never be changed.\n",
    "\n",
    "## Mutability and Immutability\n",
    "\n",
    "Changing the data inside an object is called \"modifying the internal state\" of the object.\n",
    "\n",
    "Let's say `my_account = Bank(acc=12345, bal=500)`  it was later changed to `my_account = Bank(acc=12345, bal=100)` \n",
    "\n",
    "Here the id of my_account won't change. We say the object was mutated. meaning the internal state of the object was changed.\n",
    "\n",
    "An object whose internal state can be changed. They are mutable.\n",
    "An object whose internal state cannot be changed. They are immutable.\n",
    "\n",
    "#### Immutable\n",
    "1. Numbers (int, float, booleans etc)\n",
    "2. Strings\n",
    "3. Tuples\n",
    "4. Frozen sets\n",
    "5. User-defined classes can be immutable\n",
    "\n",
    "#### Mutable\n",
    "1. Lists\n",
    "2. Sets\n",
    "3. Dictionaries\n",
    "4. User-defined classes\n",
    "\n",
    "\"WARNING\"\n",
    "t = (1,2,3) -> \"t\" is immutable and the elements in are also immutable\n",
    "t = ([1,2], [3, 4]) ->  \"t\" is immutable and the elements in are also mutable\n",
    "\n",
    "\n",
    "\n",
    "## Function Arguments and Mutability in Python\n",
    "Immutable objects are safe from unintended side-effects.\n",
    "Mutable objects can have unintended side-effects.\n",
    "\n",
    "\n",
    "## Shared References and Mutability in Python\n",
    " The term shared reference is the concept of two variables referencing the same object in memory.\n",
    "\n",
    "Python's memory manager decides to automatically re-uses these references. \n",
    "\n",
    "While working with the mutable objects we have to be more careful.\n",
    "\n",
    "Everything is passed by reference in python\n",
    "\n",
    "Shared reference for integers does not always happen\n",
    "\n",
    "## Variable Equality in Python\n",
    "\n",
    "\"is\" (identity operator) compares memory address\n",
    "Equality compares object state (data)\n",
    "\n",
    "###### The None object is a real object and it will always create a shared reference\n",
    "\n",
    "## Everything is an Object in Python\n",
    "That's it. Functions are also objects. They are first-class citizens\n",
    "\n",
    "## Python Optimizations Interning\n",
    "\n",
    "### Integers\n",
    "a = 10\n",
    "b = 10\n",
    "Here, a and b will reference the same object but\n",
    "\n",
    "a = 500\n",
    "b = 500\n",
    "Here a and b will reference different objects.\n",
    "\n",
    "This is because of iterning. At start-up, python caches objects in the list of integers in the range [-5, 256].  Anytime an integer is referenced in that, python uses the cached object.\n",
    "\n",
    "### Strings\n",
    "Some string literals that look like identifiers are interned. Identifiers here start with _ or a letter and can only contain _, letter and numbers. Don't count on it. _\n",
    "\n",
    "These are done for memory optimizations especially for equality \"a == b\" \n",
    "\n",
    "You can force strings to be interned using `sys.intern()` Dont do this usless you have a good reason to. For example, dealing with a large number of strings that have high repetition. or lots of string comparisons (NLP)\n",
    "\n",
    "\n",
    "## Python Type Hierarchy\n",
    "\n",
    "### Number\n",
    "\n",
    "Integers, Booleans\n",
    "#### Integral Numbers\n",
    "How big can a Python int become?\n",
    "The int object uses a variable number of bits. It keeps increasing as it needs to. Theoretically, it is limited only be the amount of memory available.\n",
    "\n",
    "You can see the size by using `sys.getsizeof()` Return number of bytes\n",
    "\n",
    "Division of int will always return a float.\n",
    "Floor division (//)\n",
    "modulo (%) --> For negative numbers it is not always reminders. It is such that the below equation is satisfied.\n",
    "\n",
    "`n = d * (n // d)  + (n % d)` \n",
    "\n",
    "Fraction class in fraction module will handle rational numbers\n",
    "\n",
    "\n",
    "#### Floats Internal Representations in Python\n",
    "Is implemented in CPython using \"double\" type. Float uses a fixed number of bytes. It uses 8 bytes (64 bits)\n",
    "\n",
    "These 64 bits are used up as follows\n",
    "sign -> 1 bit\n",
    "exponent ->  11 bits [-1022, 1023].        ex 1.5e-5     \n",
    "significant digits -> 52 bits -> 15-17 digits\n",
    "\n",
    "###### Float testing\n",
    "x = 0.1 + 0.1 + 0.1\n",
    "y = 0.3\n",
    "x == y -> False\n",
    "\n",
    "You can use round to handle this or a better way to handle this will be use a \"epsilon\"(tolerance) to compare numbers. Use relative tolerance i.e. the maximum allowed difference between the two numbers, relative to the larger magnitude of the two numbers.\n",
    "\n",
    "`abs_tol = rel_tol * max(abs(x), abs(y))`  \n",
    "\n",
    "You can use `math.isclose()` \n",
    "\n",
    "#### Booleans\n",
    "\n",
    "bool class is a subclass of int\n",
    "They are singleton objects\n",
    "\n",
    "0                      -> False\n",
    "Anything else -> True\n",
    "\n",
    "Every object has a True truth value, except:\n",
    "- None\n",
    "- False\n",
    "- 0, 0.0, 0 + 0j\n",
    "- empty sequences (list, tuple, string)\n",
    "- empty mapping sequence (dict, set)\n",
    "- custom classes that implement `__bool__` or `__len__` that return False or 0\n"
   ]
  },
  {
   "cell_type": "code",
   "execution_count": 1,
   "id": "b1295866-8267-4d1a-971e-4bd5dc07f870",
   "metadata": {},
   "outputs": [],
   "source": [
    "a = 5"
   ]
  },
  {
   "cell_type": "code",
   "execution_count": 2,
   "id": "7f4be757-9399-4601-9c30-76d8a23b3389",
   "metadata": {},
   "outputs": [
    {
     "data": {
      "text/plain": [
       "'0x102f0a3b8'"
      ]
     },
     "execution_count": 2,
     "metadata": {},
     "output_type": "execute_result"
    }
   ],
   "source": [
    "hex(id(a))"
   ]
  },
  {
   "cell_type": "code",
   "execution_count": 3,
   "id": "1e388fdf-f605-4d03-a53d-c00900e72a38",
   "metadata": {},
   "outputs": [],
   "source": [
    "b = a"
   ]
  },
  {
   "cell_type": "code",
   "execution_count": 4,
   "id": "c4adc2af-4a51-442d-8a06-799353c17156",
   "metadata": {},
   "outputs": [
    {
     "data": {
      "text/plain": [
       "'0x102f0a3b8'"
      ]
     },
     "execution_count": 4,
     "metadata": {},
     "output_type": "execute_result"
    }
   ],
   "source": [
    "hex(id(b))"
   ]
  },
  {
   "cell_type": "code",
   "execution_count": 5,
   "id": "61553b2b-10c9-4d3f-8af8-26b795d996d3",
   "metadata": {},
   "outputs": [
    {
     "data": {
      "text/plain": [
       "1000000320"
      ]
     },
     "execution_count": 5,
     "metadata": {},
     "output_type": "execute_result"
    }
   ],
   "source": [
    "import sys\n",
    "sys.getrefcount(a)"
   ]
  },
  {
   "cell_type": "code",
   "execution_count": 6,
   "id": "f11d6257-6ef0-4ee8-a986-2f850ae96365",
   "metadata": {},
   "outputs": [
    {
     "data": {
      "text/plain": [
       "1000000320"
      ]
     },
     "execution_count": 6,
     "metadata": {},
     "output_type": "execute_result"
    }
   ],
   "source": [
    "sys.getrefcount(b)"
   ]
  },
  {
   "cell_type": "code",
   "execution_count": 7,
   "id": "012fc9cc-83e9-4166-9ec9-7613d5e647c5",
   "metadata": {},
   "outputs": [
    {
     "data": {
      "text/plain": [
       "5"
      ]
     },
     "execution_count": 7,
     "metadata": {},
     "output_type": "execute_result"
    }
   ],
   "source": [
    "a"
   ]
  },
  {
   "cell_type": "code",
   "execution_count": 8,
   "id": "71269f75-5ad4-4f79-9b5e-141578c47d85",
   "metadata": {},
   "outputs": [],
   "source": [
    "c = 5"
   ]
  },
  {
   "cell_type": "code",
   "execution_count": 10,
   "id": "f7cfa3e3-f98d-4463-a83a-963b328b5c63",
   "metadata": {},
   "outputs": [
    {
     "data": {
      "text/plain": [
       "True"
      ]
     },
     "execution_count": 10,
     "metadata": {},
     "output_type": "execute_result"
    }
   ],
   "source": [
    "a == c"
   ]
  },
  {
   "cell_type": "code",
   "execution_count": 11,
   "id": "6dc97bb7-bb74-4d64-8db2-9420667dc6e4",
   "metadata": {},
   "outputs": [
    {
     "data": {
      "text/plain": [
       "True"
      ]
     },
     "execution_count": 11,
     "metadata": {},
     "output_type": "execute_result"
    }
   ],
   "source": [
    "a is c"
   ]
  },
  {
   "cell_type": "code",
   "execution_count": 12,
   "id": "1e9f9067-9cab-489d-9bae-a8df43519467",
   "metadata": {},
   "outputs": [
    {
     "data": {
      "text/plain": [
       "4344292280"
      ]
     },
     "execution_count": 12,
     "metadata": {},
     "output_type": "execute_result"
    }
   ],
   "source": [
    "id(c)"
   ]
  },
  {
   "cell_type": "code",
   "execution_count": 13,
   "id": "e1d2fc95-01eb-4b10-b655-ce93dbf4c890",
   "metadata": {},
   "outputs": [
    {
     "data": {
      "text/plain": [
       "4344292280"
      ]
     },
     "execution_count": 13,
     "metadata": {},
     "output_type": "execute_result"
    }
   ],
   "source": [
    "id(a)"
   ]
  },
  {
   "cell_type": "code",
   "execution_count": 14,
   "id": "aba3f12a-8448-4158-9f3f-07e8cf6c94fd",
   "metadata": {},
   "outputs": [
    {
     "data": {
      "text/plain": [
       "1000000400"
      ]
     },
     "execution_count": 14,
     "metadata": {},
     "output_type": "execute_result"
    }
   ],
   "source": [
    "sys.getrefcount(a)"
   ]
  },
  {
   "cell_type": "code",
   "execution_count": 15,
   "id": "2f6ed7c0-1e71-444d-adaf-ce9e8255a46c",
   "metadata": {},
   "outputs": [],
   "source": [
    "a = None"
   ]
  },
  {
   "cell_type": "code",
   "execution_count": 16,
   "id": "15b327a4-5648-47cf-8661-2d154ed1e7fc",
   "metadata": {},
   "outputs": [
    {
     "data": {
      "text/plain": [
       "35553"
      ]
     },
     "execution_count": 16,
     "metadata": {},
     "output_type": "execute_result"
    }
   ],
   "source": [
    "sys.getrefcount(a)"
   ]
  },
  {
   "cell_type": "code",
   "execution_count": 17,
   "id": "c753b689-c1cd-4c98-98be-1374a543ceca",
   "metadata": {},
   "outputs": [],
   "source": [
    "b = None"
   ]
  },
  {
   "cell_type": "code",
   "execution_count": 18,
   "id": "0202879c-fb1b-4cf8-a19b-f05dcac0d238",
   "metadata": {},
   "outputs": [
    {
     "data": {
      "text/plain": [
       "35556"
      ]
     },
     "execution_count": 18,
     "metadata": {},
     "output_type": "execute_result"
    }
   ],
   "source": [
    "sys.getrefcount(a)"
   ]
  },
  {
   "cell_type": "code",
   "execution_count": 19,
   "id": "277bf39c-2b59-4b6d-87f7-abbb10561112",
   "metadata": {},
   "outputs": [
    {
     "data": {
      "text/plain": [
       "4344290632"
      ]
     },
     "execution_count": 19,
     "metadata": {},
     "output_type": "execute_result"
    }
   ],
   "source": [
    "id(b)"
   ]
  },
  {
   "cell_type": "code",
   "execution_count": 20,
   "id": "ca26f364-6fe6-417d-b829-a77ec932550d",
   "metadata": {},
   "outputs": [
    {
     "data": {
      "text/plain": [
       "4344290632"
      ]
     },
     "execution_count": 20,
     "metadata": {},
     "output_type": "execute_result"
    }
   ],
   "source": [
    "id(a)"
   ]
  },
  {
   "cell_type": "code",
   "execution_count": 21,
   "id": "ac81366b-d546-49bf-bb36-27d46ed6d0a0",
   "metadata": {},
   "outputs": [],
   "source": [
    "l = [1,2,3]"
   ]
  },
  {
   "cell_type": "code",
   "execution_count": 22,
   "id": "843ca933-4998-4a84-be11-31e2988a2757",
   "metadata": {},
   "outputs": [
    {
     "data": {
      "text/plain": [
       "4395743040"
      ]
     },
     "execution_count": 22,
     "metadata": {},
     "output_type": "execute_result"
    }
   ],
   "source": [
    "id(l)"
   ]
  },
  {
   "cell_type": "code",
   "execution_count": 23,
   "id": "3787f452-4c5e-498b-8d31-3966c5c2a8a4",
   "metadata": {},
   "outputs": [],
   "source": [
    "b = [1,2,3]"
   ]
  },
  {
   "cell_type": "code",
   "execution_count": 24,
   "id": "44aaada9-d113-4678-bffe-ed57b4c4d3a0",
   "metadata": {},
   "outputs": [
    {
     "data": {
      "text/plain": [
       "4394127168"
      ]
     },
     "execution_count": 24,
     "metadata": {},
     "output_type": "execute_result"
    }
   ],
   "source": [
    "id(b)"
   ]
  },
  {
   "cell_type": "code",
   "execution_count": 25,
   "id": "5cd7bbe5-2f71-4ef1-bd06-a45965131087",
   "metadata": {},
   "outputs": [
    {
     "data": {
      "text/plain": [
       "True"
      ]
     },
     "execution_count": 25,
     "metadata": {},
     "output_type": "execute_result"
    }
   ],
   "source": [
    "l == b"
   ]
  },
  {
   "cell_type": "code",
   "execution_count": 26,
   "id": "4606bcea-f077-4458-a9a1-4c402764cf47",
   "metadata": {},
   "outputs": [
    {
     "data": {
      "text/plain": [
       "False"
      ]
     },
     "execution_count": 26,
     "metadata": {},
     "output_type": "execute_result"
    }
   ],
   "source": [
    "l is b"
   ]
  },
  {
   "cell_type": "code",
   "execution_count": 27,
   "id": "32cf36e5-f214-4de7-aa20-9074980cdfd5",
   "metadata": {},
   "outputs": [],
   "source": [
    "t = ([1,2], [3])"
   ]
  },
  {
   "cell_type": "code",
   "execution_count": 28,
   "id": "b0e8ffa8-93f4-4ab7-bb06-2992965f5211",
   "metadata": {},
   "outputs": [
    {
     "data": {
      "text/plain": [
       "4399848192"
      ]
     },
     "execution_count": 28,
     "metadata": {},
     "output_type": "execute_result"
    }
   ],
   "source": [
    "id(t)"
   ]
  },
  {
   "cell_type": "code",
   "execution_count": 29,
   "id": "f9377cd9-ecd8-451c-8ef9-9e10b15a56ba",
   "metadata": {},
   "outputs": [
    {
     "data": {
      "text/plain": [
       "4399812928"
      ]
     },
     "execution_count": 29,
     "metadata": {},
     "output_type": "execute_result"
    }
   ],
   "source": [
    "id(t[0])"
   ]
  },
  {
   "cell_type": "code",
   "execution_count": 30,
   "id": "8fd68237-e54f-4070-b4f9-f88d2193c1f3",
   "metadata": {},
   "outputs": [],
   "source": [
    "t[0].append(4)"
   ]
  },
  {
   "cell_type": "code",
   "execution_count": 31,
   "id": "80d80eda-e671-4c74-96b8-c8a8e4603562",
   "metadata": {},
   "outputs": [
    {
     "data": {
      "text/plain": [
       "([1, 2, 4], [3])"
      ]
     },
     "execution_count": 31,
     "metadata": {},
     "output_type": "execute_result"
    }
   ],
   "source": [
    "t"
   ]
  },
  {
   "cell_type": "code",
   "execution_count": 32,
   "id": "dfaa7c42-bd11-48f4-ba92-bfe08c470fe0",
   "metadata": {},
   "outputs": [
    {
     "data": {
      "text/plain": [
       "4399812928"
      ]
     },
     "execution_count": 32,
     "metadata": {},
     "output_type": "execute_result"
    }
   ],
   "source": [
    "id(t[0])"
   ]
  },
  {
   "cell_type": "code",
   "execution_count": 33,
   "id": "eec245aa-7998-44fc-9d41-76ab6875b6f3",
   "metadata": {},
   "outputs": [],
   "source": [
    "l = [1,2,3]"
   ]
  },
  {
   "cell_type": "code",
   "execution_count": 34,
   "id": "d40363cf-c6bb-41ee-9499-e00491d6cea6",
   "metadata": {},
   "outputs": [
    {
     "data": {
      "text/plain": [
       "4399817472"
      ]
     },
     "execution_count": 34,
     "metadata": {},
     "output_type": "execute_result"
    }
   ],
   "source": [
    "id(l)"
   ]
  },
  {
   "cell_type": "code",
   "execution_count": 35,
   "id": "bd3d0339-c582-4ff3-a98c-83642ddc1fb8",
   "metadata": {},
   "outputs": [],
   "source": [
    "l = l + [4]"
   ]
  },
  {
   "cell_type": "code",
   "execution_count": 36,
   "id": "2f40a718-930f-4955-b79f-2adadd8e8046",
   "metadata": {},
   "outputs": [
    {
     "data": {
      "text/plain": [
       "[1, 2, 3, 4]"
      ]
     },
     "execution_count": 36,
     "metadata": {},
     "output_type": "execute_result"
    }
   ],
   "source": [
    "l"
   ]
  },
  {
   "cell_type": "code",
   "execution_count": 37,
   "id": "714a4b05-11f4-4d3a-838b-c6ebd5950e01",
   "metadata": {},
   "outputs": [
    {
     "data": {
      "text/plain": [
       "4399799168"
      ]
     },
     "execution_count": 37,
     "metadata": {},
     "output_type": "execute_result"
    }
   ],
   "source": [
    "id(l)"
   ]
  },
  {
   "cell_type": "code",
   "execution_count": 38,
   "id": "f74f2e1c-3d3a-4d1a-ac60-0e92f3b4ae4b",
   "metadata": {},
   "outputs": [],
   "source": [
    "q = [1,2,3,4]"
   ]
  },
  {
   "cell_type": "code",
   "execution_count": 39,
   "id": "ca8b5c85-9a06-4921-b92c-f724488599ad",
   "metadata": {},
   "outputs": [
    {
     "data": {
      "text/plain": [
       "False"
      ]
     },
     "execution_count": 39,
     "metadata": {},
     "output_type": "execute_result"
    }
   ],
   "source": [
    "l is q"
   ]
  },
  {
   "cell_type": "code",
   "execution_count": 40,
   "id": "fefd4078-c4cc-4c72-9aed-e6150ab90e64",
   "metadata": {},
   "outputs": [
    {
     "data": {
      "text/plain": [
       "bool"
      ]
     },
     "execution_count": 40,
     "metadata": {},
     "output_type": "execute_result"
    }
   ],
   "source": [
    "type(True)"
   ]
  },
  {
   "cell_type": "code",
   "execution_count": 41,
   "id": "4bed33b2-f398-4fc7-8918-5f4138bd4ed7",
   "metadata": {},
   "outputs": [
    {
     "data": {
      "text/plain": [
       "True"
      ]
     },
     "execution_count": 41,
     "metadata": {},
     "output_type": "execute_result"
    }
   ],
   "source": [
    "isinstance(True, int)"
   ]
  },
  {
   "cell_type": "code",
   "execution_count": 43,
   "id": "2c02c808-53f4-4181-ac3b-1142328cb469",
   "metadata": {},
   "outputs": [
    {
     "data": {
      "text/plain": [
       "0"
      ]
     },
     "execution_count": 43,
     "metadata": {},
     "output_type": "execute_result"
    }
   ],
   "source": [
    "int(False)"
   ]
  },
  {
   "cell_type": "code",
   "execution_count": 44,
   "id": "2eca9eff-6cb5-4d7c-ac86-bb152a0fc53a",
   "metadata": {},
   "outputs": [
    {
     "data": {
      "text/plain": [
       "138"
      ]
     },
     "execution_count": 44,
     "metadata": {},
     "output_type": "execute_result"
    }
   ],
   "source": [
    "0x8a"
   ]
  },
  {
   "cell_type": "code",
   "execution_count": 45,
   "id": "f056ebbe-6c58-42e4-87fe-f10ae59c2a6f",
   "metadata": {},
   "outputs": [
    {
     "data": {
      "text/plain": [
       "2"
      ]
     },
     "execution_count": 45,
     "metadata": {},
     "output_type": "execute_result"
    }
   ],
   "source": [
    "0b10"
   ]
  },
  {
   "cell_type": "code",
   "execution_count": 46,
   "id": "7c199669-3993-40a9-897c-e0e9065536f6",
   "metadata": {},
   "outputs": [],
   "source": [
    "a = 3 + 4j"
   ]
  },
  {
   "cell_type": "code",
   "execution_count": 47,
   "id": "b7fd1232-522e-4b35-9a30-b4635054fbcc",
   "metadata": {},
   "outputs": [],
   "source": [
    "b = 1 + 2j"
   ]
  },
  {
   "cell_type": "code",
   "execution_count": 48,
   "id": "a7da2a1a-449a-4b91-a1eb-a179b17af07d",
   "metadata": {},
   "outputs": [
    {
     "ename": "TypeError",
     "evalue": "'<' not supported between instances of 'complex' and 'complex'",
     "output_type": "error",
     "traceback": [
      "\u001b[0;31m---------------------------------------------------------------------------\u001b[0m",
      "\u001b[0;31mTypeError\u001b[0m                                 Traceback (most recent call last)",
      "Cell \u001b[0;32mIn[48], line 1\u001b[0m\n\u001b[0;32m----> 1\u001b[0m \u001b[43ma\u001b[49m\u001b[43m \u001b[49m\u001b[38;5;241;43m<\u001b[39;49m\u001b[43m \u001b[49m\u001b[43mb\u001b[49m\n",
      "\u001b[0;31mTypeError\u001b[0m: '<' not supported between instances of 'complex' and 'complex'"
     ]
    }
   ],
   "source": [
    "a < b"
   ]
  },
  {
   "cell_type": "code",
   "execution_count": 49,
   "id": "e915c0a4-6aef-4a00-912a-1366a142f6c9",
   "metadata": {},
   "outputs": [
    {
     "data": {
      "text/plain": [
       "False"
      ]
     },
     "execution_count": 49,
     "metadata": {},
     "output_type": "execute_result"
    }
   ],
   "source": [
    "a == b"
   ]
  },
  {
   "cell_type": "code",
   "execution_count": 50,
   "id": "281d8a1a-92e2-4263-b22a-deab5c502ad8",
   "metadata": {},
   "outputs": [],
   "source": [
    "a = 1 + 2j"
   ]
  },
  {
   "cell_type": "code",
   "execution_count": 51,
   "id": "8208d0f7-0f35-45b8-8e1d-f3b87f8d3b8b",
   "metadata": {},
   "outputs": [
    {
     "data": {
      "text/plain": [
       "True"
      ]
     },
     "execution_count": 51,
     "metadata": {},
     "output_type": "execute_result"
    }
   ],
   "source": [
    "a == b"
   ]
  },
  {
   "cell_type": "code",
   "execution_count": 52,
   "id": "e159435e-7158-4766-93a3-21a34f7b89f4",
   "metadata": {},
   "outputs": [
    {
     "data": {
      "text/plain": [
       "False"
      ]
     },
     "execution_count": 52,
     "metadata": {},
     "output_type": "execute_result"
    }
   ],
   "source": [
    "a is b"
   ]
  },
  {
   "cell_type": "code",
   "execution_count": 54,
   "id": "e217305a-429e-404a-b11a-e273758cab11",
   "metadata": {},
   "outputs": [
    {
     "ename": "NameError",
     "evalue": "name 'Decimal' is not defined",
     "output_type": "error",
     "traceback": [
      "\u001b[0;31m---------------------------------------------------------------------------\u001b[0m",
      "\u001b[0;31mNameError\u001b[0m                                 Traceback (most recent call last)",
      "Cell \u001b[0;32mIn[54], line 1\u001b[0m\n\u001b[0;32m----> 1\u001b[0m \u001b[43mDecimal\u001b[49m(\u001b[38;5;124m'\u001b[39m\u001b[38;5;124m-5.0\u001b[39m\u001b[38;5;124m'\u001b[39m)\n",
      "\u001b[0;31mNameError\u001b[0m: name 'Decimal' is not defined"
     ]
    }
   ],
   "source": [
    "Decimal('-5.0')"
   ]
  },
  {
   "cell_type": "code",
   "execution_count": 60,
   "id": "8c3af5a5-2306-40ab-a444-878690278f34",
   "metadata": {},
   "outputs": [
    {
     "data": {
      "text/plain": [
       "True"
      ]
     },
     "execution_count": 60,
     "metadata": {},
     "output_type": "execute_result"
    }
   ],
   "source": [
    "bool(1 < 2 > -3)"
   ]
  },
  {
   "cell_type": "code",
   "execution_count": 59,
   "id": "23c93287-d6af-4d39-abae-ccb182cbcfef",
   "metadata": {},
   "outputs": [
    {
     "data": {
      "text/plain": [
       "True"
      ]
     },
     "execution_count": 59,
     "metadata": {},
     "output_type": "execute_result"
    }
   ],
   "source": [
    "bool(-5)"
   ]
  },
  {
   "cell_type": "code",
   "execution_count": 61,
   "id": "cdde93a6-03fc-40d2-8f9b-ed3d45b8281b",
   "metadata": {},
   "outputs": [
    {
     "data": {
      "text/plain": [
       "False"
      ]
     },
     "execution_count": 61,
     "metadata": {},
     "output_type": "execute_result"
    }
   ],
   "source": [
    "1 < 2 > -3 == -5"
   ]
  },
  {
   "cell_type": "code",
   "execution_count": 62,
   "id": "60f2a3a8-51f1-491f-9b9f-12602a6635fd",
   "metadata": {},
   "outputs": [
    {
     "data": {
      "text/plain": [
       "True"
      ]
     },
     "execution_count": 62,
     "metadata": {},
     "output_type": "execute_result"
    }
   ],
   "source": [
    "1 < 2 > -5 == -5"
   ]
  },
  {
   "cell_type": "code",
   "execution_count": 63,
   "id": "5611865b-c076-40cc-8ee7-9112f5ed3b4f",
   "metadata": {},
   "outputs": [
    {
     "data": {
      "text/plain": [
       "True"
      ]
     },
     "execution_count": 63,
     "metadata": {},
     "output_type": "execute_result"
    }
   ],
   "source": [
    "1 < 2 and 2 > -5 == -5"
   ]
  },
  {
   "cell_type": "code",
   "execution_count": null,
   "id": "d4232cc9-eced-4a4e-b935-27868ab3e908",
   "metadata": {},
   "outputs": [],
   "source": []
  }
 ],
 "metadata": {
  "kernelspec": {
   "display_name": "Python 3 (ipykernel)",
   "language": "python",
   "name": "python3"
  },
  "language_info": {
   "codemirror_mode": {
    "name": "ipython",
    "version": 3
   },
   "file_extension": ".py",
   "mimetype": "text/x-python",
   "name": "python",
   "nbconvert_exporter": "python",
   "pygments_lexer": "ipython3",
   "version": "3.11.6"
  }
 },
 "nbformat": 4,
 "nbformat_minor": 5
}
